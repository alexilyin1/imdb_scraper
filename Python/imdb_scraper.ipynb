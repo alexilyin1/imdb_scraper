{
 "cells": [
  {
   "cell_type": "markdown",
   "metadata": {},
   "source": [
    "## Scraping IMDB reviews for movies with posters available on the OMBd API tool"
   ]
  },
  {
   "cell_type": "code",
   "execution_count": 107,
   "metadata": {},
   "outputs": [],
   "source": [
    "import time\n",
    "import csv\n",
    "import os\n",
    "import random\n",
    "import re\n",
    "import bs4 as bs\n",
    "import pandas as pd\n",
    "\n",
    "import warnings\n",
    "\n",
    "warnings.filterwarnings(\"ignore\")\n",
    "\n",
    "from urllib.request import FancyURLopener\n",
    "from random import choice\n",
    "from bs4 import SoupStrainer, BeautifulSoup\n",
    "\n",
    "from selenium import webdriver\n",
    "from selenium.webdriver.common.keys import Keys\n",
    "from selenium.webdriver.chrome.options import Options\n",
    "\n",
    "chrome_options = Options()\n",
    "chrome_options.add_argument(\"--headless\")\n",
    "chrome_options.add_argument(\"--no-sandbox\")\n",
    "chrome_options.add_argument(\"--disable-dev-shm-usage\")\n",
    "driver = webdriver.Chrome(\"/usr/local/bin/chromedriver\", chrome_options=chrome_options)\n",
    "\n",
    "user_agents = [\n",
    "    \"Mozilla/5.0 (Windows NT 6.1) AppleWebKit/537.36 (KHTML, like Gecko) Chrome/41.0.2228.0 Safari/537.36\",\n",
    "    \"Opera/9.80 (X11; Linux i686; Ubuntu/14.10) Presto/2.12.388 Version/12.16\",\n",
    "    \"Mozilla/5.0 (Windows; U; Windows NT 6.1; rv:2.2) Gecko/20110201\",\n",
    "    \"Mozilla/5.0 (Macintosh; Intel Mac OS X 10_9_3) AppleWebKit/537.75.14 (KHTML, like Gecko) Version/7.0.3 Safari/7046A194A\",\n",
    "    \"Mozilla/5.0 (Windows NT 10.0; Win64; x64) AppleWebKit/537.36 (KHTML, like Gecko) Chrome/42.0.2311.135 Safari/537.36 Edge/12.246\",\n",
    "]\n",
    "\n",
    "\n",
    "class MyOpener(FancyURLopener, object):\n",
    "    version = choice(user_agents)\n",
    "\n",
    "myopener = MyOpener()"
   ]
  },
  {
   "cell_type": "code",
   "execution_count": 118,
   "metadata": {},
   "outputs": [],
   "source": [
    "file_list = []\n",
    "\n",
    "for file in os.listdir(\"data/images/\"):\n",
    "    if file.endswith(\".png\"):\n",
    "        file_list.append(str(file))\n",
    "        \n",
    "file_df = pd.DataFrame({'file_extension': file_list})\n",
    "file_df.to_csv('file_extensions.csv', sep=',', index=False)"
   ]
  },
  {
   "cell_type": "code",
   "execution_count": 15,
   "metadata": {},
   "outputs": [],
   "source": [
    "id_list = []\n",
    "\n",
    "for file in os.listdir(\"data/images/\"):\n",
    "    if file.endswith('.png'):\n",
    "        id_list.append(str(file).strip('.png'))"
   ]
  },
  {
   "cell_type": "code",
   "execution_count": 22,
   "metadata": {},
   "outputs": [],
   "source": [
    "url_list = []\n",
    "\n",
    "for i in range(len(id_list)):\n",
    "    url_list.append('https://www.imdb.com/title/' + id_list[i])"
   ]
  },
  {
   "cell_type": "code",
   "execution_count": null,
   "metadata": {},
   "outputs": [],
   "source": [
    "name_list = []\n",
    "all_reviews = []\n",
    "review_count = []\n",
    "\n",
    "## Counter variable for debugging\n",
    "count = 0\n",
    "for x in range(len(url_list)):\n",
    "    starter_url = url_list[x]\n",
    "    page = myopener.open(starter_url)\n",
    "    html = page.read().decode(\"utf-8\")\n",
    "    soup = BeautifulSoup(html, \"html.parser\")\n",
    "    \n",
    "    time.sleep(random.randint(1, 5))\n",
    "    \n",
    "    ## Error handling for movies with no reviews\n",
    "    try:\n",
    "        user_reviews = soup.find(href='reviews?ref_=tt_ov_rt').get_text()\n",
    "        \n",
    "        review_text = []\n",
    "        page = myopener.open(starter_url + '/reviews?ref_=tt_ov_rt')\n",
    "        html = page.read().decode('utf-8')\n",
    "        soup = BeautifulSoup(html, \"html.parser\")\n",
    "        for text in soup.select('.show-more__control'):\n",
    "            review_text.append(text.get_text())\n",
    "        time.sleep(random.randint(1, 5))\n",
    "        for text in soup.select('.parent'):\n",
    "            name_list.append(text.get_text().split('\\n\\n')[1].split(' \\n')[0])\n",
    "        all_reviews.extend([review_text])\n",
    "        review_count.append(int(user_reviews.strip(' user').replace(',', '')))\n",
    "        \n",
    "        count = count+1\n",
    "    except AttributeError: \n",
    "        continue"
   ]
  }
 ],
 "metadata": {
  "kernelspec": {
   "display_name": "Python 3",
   "language": "python",
   "name": "python3"
  },
  "language_info": {
   "codemirror_mode": {
    "name": "ipython",
    "version": 3
   },
   "file_extension": ".py",
   "mimetype": "text/x-python",
   "name": "python",
   "nbconvert_exporter": "python",
   "pygments_lexer": "ipython3",
   "version": "3.6.9"
  }
 },
 "nbformat": 4,
 "nbformat_minor": 4
}
